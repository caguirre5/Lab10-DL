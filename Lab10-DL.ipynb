{
 "cells": [
  {
   "cell_type": "markdown",
   "metadata": {},
   "source": [
    "# Parte 1. Practica"
   ]
  },
  {
   "cell_type": "code",
   "execution_count": null,
   "metadata": {},
   "outputs": [],
   "source": []
  },
  {
   "cell_type": "markdown",
   "metadata": {},
   "source": [
    "# Parte 2. Teoria\n",
    "\n",
    "Defina en qué consiste y en qué clase de problemas se pueden usar cada uno de los siguientes acercamientos en\n",
    "Deep Reinforcement Learning\n",
    "\n",
    "\n",
    "**1. Proximal Policy Optimization**\n",
    "\n",
    "\n",
    "\n",
    "**2. Deep Deterministic Policy Gradients (DDPG)**\n",
    "\n",
    "\n",
    "\n",
    "**3. Trust Region Policy Optimization (TRPO)**\n",
    "\n",
    "\n",
    "\n",
    "**4. Asynchronous Advantage Actor-Critic (A3C)**\n",
    "\n"
   ]
  }
 ],
 "metadata": {
  "language_info": {
   "name": "python"
  }
 },
 "nbformat": 4,
 "nbformat_minor": 2
}
