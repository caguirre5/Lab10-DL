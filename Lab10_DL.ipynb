{
  "cells": [
    {
      "cell_type": "markdown",
      "metadata": {
        "id": "view-in-github",
        "colab_type": "text"
      },
      "source": [
        "<a href=\"https://colab.research.google.com/github/caguirre5/Lab10-DL/blob/main/Lab10_DL.ipynb\" target=\"_parent\"><img src=\"https://colab.research.google.com/assets/colab-badge.svg\" alt=\"Open In Colab\"/></a>"
      ]
    },
    {
      "cell_type": "markdown",
      "metadata": {
        "id": "SO4nFAGB8w7h"
      },
      "source": [
        "# Parte 1. Practica"
      ]
    },
    {
      "cell_type": "code",
      "execution_count": null,
      "metadata": {
        "id": "WJKnhHdg8w7k"
      },
      "outputs": [],
      "source": []
    },
    {
      "cell_type": "markdown",
      "metadata": {
        "id": "eMPym7Ul8w7l"
      },
      "source": [
        "# Parte 2. Teoria\n",
        "\n",
        "Defina en qué consiste y en qué clase de problemas se pueden usar cada uno de los siguientes acercamientos en\n",
        "Deep Reinforcement Learning\n",
        "\n",
        "\n",
        "**1. Proximal Policy Optimization**\n",
        "\n",
        "\n",
        "\n",
        "**2. Deep Deterministic Policy Gradients (DDPG)**\n",
        "\n",
        "\n",
        "\n",
        "**3. Trust Region Policy Optimization (TRPO)**\n",
        "\n",
        "\n",
        "\n",
        "**4. Asynchronous Advantage Actor-Critic (A3C)**\n",
        "\n"
      ]
    }
  ],
  "metadata": {
    "language_info": {
      "name": "python"
    },
    "colab": {
      "provenance": [],
      "include_colab_link": true
    }
  },
  "nbformat": 4,
  "nbformat_minor": 0
}