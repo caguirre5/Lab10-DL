{
  "cells": [
    {
      "cell_type": "markdown",
      "metadata": {
        "id": "view-in-github",
        "colab_type": "text"
      },
      "source": [
        "<a href=\"https://colab.research.google.com/github/caguirre5/Lab10-DL/blob/main/Lab10_DL.ipynb\" target=\"_parent\"><img src=\"https://colab.research.google.com/assets/colab-badge.svg\" alt=\"Open In Colab\"/></a>"
      ]
    },
    {
      "cell_type": "markdown",
      "source": [
        "Universidad del Valle <br>\n",
        "Deep Learning <br>\n",
        "Integrantes:\n",
        "\n",
        "* Marco Jurado 20308\n",
        "* Diego Cordova 20212\n",
        "* Paola Contreras 20213\n",
        "* Paola de Leon 20361\n",
        "* Cristian Aguirre 20231"
      ],
      "metadata": {
        "id": "gEotDDtU87H5"
      }
    },
    {
      "cell_type": "markdown",
      "metadata": {
        "id": "SO4nFAGB8w7h"
      },
      "source": [
        "# Parte 1. Practica"
      ]
    },
    {
      "cell_type": "code",
      "source": [
        "!pip install gymnasium"
      ],
      "metadata": {
        "id": "42iwuooCAUss",
        "outputId": "93f8c008-b9e6-47d8-91fd-1c2d9710858f",
        "colab": {
          "base_uri": "https://localhost:8080/"
        }
      },
      "execution_count": 2,
      "outputs": [
        {
          "output_type": "stream",
          "name": "stdout",
          "text": [
            "Collecting gymnasium\n",
            "  Downloading gymnasium-0.29.1-py3-none-any.whl (953 kB)\n",
            "\u001b[2K     \u001b[90m━━━━━━━━━━━━━━━━━━━━━━━━━━━━━━━━━━━━━━━━\u001b[0m \u001b[32m953.9/953.9 kB\u001b[0m \u001b[31m11.2 MB/s\u001b[0m eta \u001b[36m0:00:00\u001b[0m\n",
            "\u001b[?25hRequirement already satisfied: numpy>=1.21.0 in /usr/local/lib/python3.10/dist-packages (from gymnasium) (1.23.5)\n",
            "Requirement already satisfied: cloudpickle>=1.2.0 in /usr/local/lib/python3.10/dist-packages (from gymnasium) (2.2.1)\n",
            "Requirement already satisfied: typing-extensions>=4.3.0 in /usr/local/lib/python3.10/dist-packages (from gymnasium) (4.5.0)\n",
            "Collecting farama-notifications>=0.0.1 (from gymnasium)\n",
            "  Downloading Farama_Notifications-0.0.4-py3-none-any.whl (2.5 kB)\n",
            "Installing collected packages: farama-notifications, gymnasium\n",
            "Successfully installed farama-notifications-0.0.4 gymnasium-0.29.1\n"
          ]
        }
      ]
    },
    {
      "cell_type": "code",
      "execution_count": 5,
      "metadata": {
        "id": "WJKnhHdg8w7k"
      },
      "outputs": [],
      "source": [
        "# 1. Importar librerias\n",
        "import torch\n",
        "import numpy as np\n",
        "import torch.nn as nn\n",
        "import gymnasium as gym\n",
        "import torch.optim as optim\n",
        "import torch.nn.functional as F"
      ]
    },
    {
      "cell_type": "code",
      "source": [
        "# 2. Crear el entorno CartPole\n",
        "env = gym.make('CartPole-v1')"
      ],
      "metadata": {
        "id": "dBwU_1XYAKFQ"
      },
      "execution_count": 4,
      "outputs": []
    },
    {
      "cell_type": "code",
      "source": [
        "# 3. Definan las redes en línea y de destino\n",
        "class DQN_model(nn.Module):\n",
        "    def __init__(self, input_size, output_size):\n",
        "        super(DQN_model, self).__init__()\n",
        "        self.fc1 = nn.Linear(input_size, 128)\n",
        "        self.fc2 = nn.Linear(128, 128)\n",
        "        self.fc3 = nn.Linear(128, output_size)\n",
        "\n",
        "    def forward(self, x):\n",
        "        x = torch.relu(self.fc1(x))\n",
        "        x = torch.relu(self.fc2(x))\n",
        "        x = self.fc3(x)\n",
        "        return x"
      ],
      "metadata": {
        "id": "Ju1kijYSAhJV"
      },
      "execution_count": null,
      "outputs": []
    },
    {
      "cell_type": "code",
      "source": [],
      "metadata": {
        "id": "rjatDdZ-GB83"
      },
      "execution_count": null,
      "outputs": []
    },
    {
      "cell_type": "markdown",
      "metadata": {
        "id": "eMPym7Ul8w7l"
      },
      "source": [
        "# Parte 2. Teoria\n",
        "\n",
        "Defina en qué consiste y en qué clase de problemas se pueden usar cada uno de los siguientes acercamientos en\n",
        "Deep Reinforcement Learning\n",
        "\n",
        "\n",
        "**1. Proximal Policy Optimization**\n",
        "\n",
        "\n",
        "\n",
        "**2. Deep Deterministic Policy Gradients (DDPG)**\n",
        "\n",
        "\n",
        "\n",
        "**3. Trust Region Policy Optimization (TRPO)**\n",
        "\n",
        "\n",
        "\n",
        "**4. Asynchronous Advantage Actor-Critic (A3C)**\n",
        "\n"
      ]
    }
  ],
  "metadata": {
    "language_info": {
      "name": "python"
    },
    "colab": {
      "provenance": [],
      "include_colab_link": true
    },
    "kernelspec": {
      "name": "python3",
      "display_name": "Python 3"
    }
  },
  "nbformat": 4,
  "nbformat_minor": 0
}